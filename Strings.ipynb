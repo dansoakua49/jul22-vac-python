{
  "nbformat": 4,
  "nbformat_minor": 0,
  "metadata": {
    "colab": {
      "name": "Strings.ipynb",
      "provenance": [],
      "authorship_tag": "ABX9TyOw+EuWz7V4gfnCyJBfB3tI",
      "include_colab_link": true
    },
    "kernelspec": {
      "name": "python3",
      "display_name": "Python 3"
    },
    "language_info": {
      "name": "python"
    }
  },
  "cells": [
    {
      "cell_type": "markdown",
      "metadata": {
        "id": "view-in-github",
        "colab_type": "text"
      },
      "source": [
        "<a href=\"https://colab.research.google.com/github/dansoakua49/jul22-vac-python/blob/main/Strings.ipynb\" target=\"_parent\"><img src=\"https://colab.research.google.com/assets/colab-badge.svg\" alt=\"Open In Colab\"/></a>"
      ]
    },
    {
      "cell_type": "code",
      "execution_count": 1,
      "metadata": {
        "colab": {
          "base_uri": "https://localhost:8080/",
          "height": 35
        },
        "id": "viwYZuK_EhRi",
        "outputId": "c79ffa78-05f6-422e-90f1-de6ccc65cd68"
      },
      "outputs": [
        {
          "output_type": "execute_result",
          "data": {
            "text/plain": [
              "'Hello everybody and Welcomto Python towards data science track!'"
            ],
            "application/vnd.google.colaboratory.intrinsic+json": {
              "type": "string"
            }
          },
          "metadata": {},
          "execution_count": 1
        }
      ],
      "source": [
        "mystring = 'Hello everybody and Welcomto Python towards data science track!'\n",
        "mystring"
      ]
    },
    {
      "cell_type": "code",
      "source": [
        "type(mystring)"
      ],
      "metadata": {
        "colab": {
          "base_uri": "https://localhost:8080/"
        },
        "id": "N4hXRnPkFABM",
        "outputId": "c8432379-ce97-4d65-e2c6-220f3e45a32c"
      },
      "execution_count": 2,
      "outputs": [
        {
          "output_type": "execute_result",
          "data": {
            "text/plain": [
              "str"
            ]
          },
          "metadata": {},
          "execution_count": 2
        }
      ]
    },
    {
      "cell_type": "code",
      "source": [
        "firstname='Barbara'\n",
        "Lastname= 'Asiamah'\n",
        "fullname=firstname+Lastname\n",
        "fullname"
      ],
      "metadata": {
        "colab": {
          "base_uri": "https://localhost:8080/",
          "height": 35
        },
        "id": "XbHCRcSoFLck",
        "outputId": "61327c90-6c9b-4fb3-a60a-4a8ab1607072"
      },
      "execution_count": 4,
      "outputs": [
        {
          "output_type": "execute_result",
          "data": {
            "text/plain": [
              "'BarbaraAsiamah'"
            ],
            "application/vnd.google.colaboratory.intrinsic+json": {
              "type": "string"
            }
          },
          "metadata": {},
          "execution_count": 4
        }
      ]
    },
    {
      "cell_type": "code",
      "source": [
        "mystring.upper()"
      ],
      "metadata": {
        "colab": {
          "base_uri": "https://localhost:8080/",
          "height": 35
        },
        "id": "Sxa2M0geFyFV",
        "outputId": "e1baf33e-8964-4731-df8a-085579c061dd"
      },
      "execution_count": 6,
      "outputs": [
        {
          "output_type": "execute_result",
          "data": {
            "text/plain": [
              "'HELLO EVERYBODY AND WELCOMTO PYTHON TOWARDS DATA SCIENCE TRACK!'"
            ],
            "application/vnd.google.colaboratory.intrinsic+json": {
              "type": "string"
            }
          },
          "metadata": {},
          "execution_count": 6
        }
      ]
    },
    {
      "cell_type": "code",
      "source": [
        "x=mystring.split()\n",
        "x"
      ],
      "metadata": {
        "colab": {
          "base_uri": "https://localhost:8080/"
        },
        "id": "t7i_jL5tF89G",
        "outputId": "23abc865-1e09-429d-f62b-039292cf251b"
      },
      "execution_count": 8,
      "outputs": [
        {
          "output_type": "execute_result",
          "data": {
            "text/plain": [
              "['Hello',\n",
              " 'everybody',\n",
              " 'and',\n",
              " 'Welcomto',\n",
              " 'Python',\n",
              " 'towards',\n",
              " 'data',\n",
              " 'science',\n",
              " 'track!']"
            ]
          },
          "metadata": {},
          "execution_count": 8
        }
      ]
    },
    {
      "cell_type": "code",
      "source": [
        "type(x)"
      ],
      "metadata": {
        "colab": {
          "base_uri": "https://localhost:8080/"
        },
        "id": "RY-imCWcGLvj",
        "outputId": "0b9370a2-aa18-4e37-91b0-846eef825035"
      },
      "execution_count": 9,
      "outputs": [
        {
          "output_type": "execute_result",
          "data": {
            "text/plain": [
              "list"
            ]
          },
          "metadata": {},
          "execution_count": 9
        }
      ]
    },
    {
      "cell_type": "code",
      "source": [
        "x[1]"
      ],
      "metadata": {
        "colab": {
          "base_uri": "https://localhost:8080/",
          "height": 35
        },
        "id": "FcmsbnYsGaQD",
        "outputId": "ff6113a4-4837-4f9c-936f-1060714bad69"
      },
      "execution_count": 11,
      "outputs": [
        {
          "output_type": "execute_result",
          "data": {
            "text/plain": [
              "'everybody'"
            ],
            "application/vnd.google.colaboratory.intrinsic+json": {
              "type": "string"
            }
          },
          "metadata": {},
          "execution_count": 11
        }
      ]
    },
    {
      "cell_type": "code",
      "source": [
        "mystring= 'barbaraasiamah99@gmail.com'\n",
        "z= mystring.split('@')\n",
        "z"
      ],
      "metadata": {
        "colab": {
          "base_uri": "https://localhost:8080/"
        },
        "id": "JBexUk7RGoii",
        "outputId": "8eb58120-cd44-443b-fa35-dd1dabf61bd0"
      },
      "execution_count": 15,
      "outputs": [
        {
          "output_type": "execute_result",
          "data": {
            "text/plain": [
              "['barbaraasiamah99', 'gmail.com']"
            ]
          },
          "metadata": {},
          "execution_count": 15
        }
      ]
    },
    {
      "cell_type": "code",
      "source": [
        "string2='What course are you doing. And how do you cope with it?'"
      ],
      "metadata": {
        "id": "eXYXN9_DIJA6"
      },
      "execution_count": 16,
      "outputs": []
    },
    {
      "cell_type": "code",
      "source": [
        "type(string2)"
      ],
      "metadata": {
        "colab": {
          "base_uri": "https://localhost:8080/"
        },
        "id": "EKwI74dBMmqx",
        "outputId": "b63714d6-8035-4c45-a0d0-7c1f1de268aa"
      },
      "execution_count": 17,
      "outputs": [
        {
          "output_type": "execute_result",
          "data": {
            "text/plain": [
              "str"
            ]
          },
          "metadata": {},
          "execution_count": 17
        }
      ]
    },
    {
      "cell_type": "code",
      "source": [
        "x=string2.split()\n",
        "x"
      ],
      "metadata": {
        "colab": {
          "base_uri": "https://localhost:8080/"
        },
        "id": "Q9MxsEvFM8jr",
        "outputId": "ac68b463-55d7-4be1-8ac3-af9a1e8de85c"
      },
      "execution_count": 18,
      "outputs": [
        {
          "output_type": "execute_result",
          "data": {
            "text/plain": [
              "['What',\n",
              " 'course',\n",
              " 'are',\n",
              " 'you',\n",
              " 'doing.',\n",
              " 'And',\n",
              " 'how',\n",
              " 'do',\n",
              " 'you',\n",
              " 'cope',\n",
              " 'with',\n",
              " 'it?']"
            ]
          },
          "metadata": {},
          "execution_count": 18
        }
      ]
    },
    {
      "cell_type": "code",
      "source": [
        "firstname='Akua'\n",
        "lastname='Danso'\n",
        "fullname=firstname+lastname\n",
        "fullname"
      ],
      "metadata": {
        "colab": {
          "base_uri": "https://localhost:8080/",
          "height": 35
        },
        "id": "wWKAesZlNP34",
        "outputId": "cf734e41-b7ae-4280-f954-2bbb381f6651"
      },
      "execution_count": 19,
      "outputs": [
        {
          "output_type": "execute_result",
          "data": {
            "text/plain": [
              "'AkuaDanso'"
            ],
            "application/vnd.google.colaboratory.intrinsic+json": {
              "type": "string"
            }
          },
          "metadata": {},
          "execution_count": 19
        }
      ]
    },
    {
      "cell_type": "code",
      "source": [
        "string3='akuadanso@gmail.com'\n",
        "z=string3.split('@')\n",
        "z"
      ],
      "metadata": {
        "colab": {
          "base_uri": "https://localhost:8080/"
        },
        "id": "OpTAdYMfNnQ1",
        "outputId": "cb61f015-fa69-4720-937b-78dbe2bafd0e"
      },
      "execution_count": 20,
      "outputs": [
        {
          "output_type": "execute_result",
          "data": {
            "text/plain": [
              "['akuadanso', 'gmail.com']"
            ]
          },
          "metadata": {},
          "execution_count": 20
        }
      ]
    }
  ]
}