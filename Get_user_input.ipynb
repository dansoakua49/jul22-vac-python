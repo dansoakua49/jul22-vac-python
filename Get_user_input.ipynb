{
  "nbformat": 4,
  "nbformat_minor": 0,
  "metadata": {
    "colab": {
      "name": "Get user input.ipynb",
      "provenance": [],
      "authorship_tag": "ABX9TyPYEDQo4Sq16TlNCFG39Bnu",
      "include_colab_link": true
    },
    "kernelspec": {
      "name": "python3",
      "display_name": "Python 3"
    },
    "language_info": {
      "name": "python"
    }
  },
  "cells": [
    {
      "cell_type": "markdown",
      "metadata": {
        "id": "view-in-github",
        "colab_type": "text"
      },
      "source": [
        "<a href=\"https://colab.research.google.com/github/dansoakua49/jul22-vac-python/blob/main/Get_user_input.ipynb\" target=\"_parent\"><img src=\"https://colab.research.google.com/assets/colab-badge.svg\" alt=\"Open In Colab\"/></a>"
      ]
    },
    {
      "cell_type": "code",
      "source": [
        "name=input('welcome to unicorn developers, whats your name:')\n",
        "print('Hello', name)"
      ],
      "metadata": {
        "colab": {
          "base_uri": "https://localhost:8080/"
        },
        "id": "5LUCFfyn3md9",
        "outputId": "661dfeb2-5ba6-4a05-fa3d-752baa304753"
      },
      "execution_count": null,
      "outputs": [
        {
          "output_type": "stream",
          "name": "stdout",
          "text": [
            "welcome to unicorn developers, whats your name: Barbara\n",
            "Hello  Barbara\n"
          ]
        }
      ]
    },
    {
      "cell_type": "code",
      "source": [
        "name=input('welcome to unicorn developers, please enter your name:')\n",
        "age=input('enter your age:')\n",
        "course=input('enter the name of your course:')\n",
        "print('my name is {}. i am {} years old, and i am studying {} at unicorn developers'. format(name,age,course))"
      ],
      "metadata": {
        "colab": {
          "base_uri": "https://localhost:8080/"
        },
        "id": "ppuPCHXL8r80",
        "outputId": "9f3e4d12-be1a-4b9c-d424-fc843de7c63a"
      },
      "execution_count": null,
      "outputs": [
        {
          "output_type": "stream",
          "name": "stdout",
          "text": [
            "welcome to unicorn developers, please enter your name:Barbara\n",
            "enter your age:19\n",
            "enter the name of your course:python\n",
            "my name is Barbara. i am 19 years old, and i am studying python at unicorn developers\n"
          ]
        }
      ]
    },
    {
      "cell_type": "code",
      "source": [
        "x=input('enter the tuition fees:')\n",
        "y=input('enter the number of courses that you want to take:')\n",
        "print('the total funds required to take {} courses at {} cedis is {}' format(y,x,x*y))"
      ],
      "metadata": {
        "colab": {
          "base_uri": "https://localhost:8080/",
          "height": 130
        },
        "id": "6bd6X0JA-CMu",
        "outputId": "33d3d716-b032-48df-ace4-ef16e69c7fa6"
      },
      "execution_count": null,
      "outputs": [
        {
          "output_type": "error",
          "ename": "SyntaxError",
          "evalue": "ignored",
          "traceback": [
            "\u001b[0;36m  File \u001b[0;32m\"<ipython-input-10-d515e0a3b465>\"\u001b[0;36m, line \u001b[0;32m3\u001b[0m\n\u001b[0;31m    print('the total funds required to take {} courses at {} cedis is {}' format(y,x,x*y))\u001b[0m\n\u001b[0m                                                                               ^\u001b[0m\n\u001b[0;31mSyntaxError\u001b[0m\u001b[0;31m:\u001b[0m invalid syntax\n"
          ]
        }
      ]
    },
    {
      "cell_type": "code",
      "source": [
        "x=input('Enter the courses fee:')\n",
        "x=int(x)\n",
        "y=input('Enter the number of coursesthat you want to take:')\n",
        "y=int(y)\n",
        "print('the total funds required to take {} courses at {} cedis per a course is {}'. format(y,x,x*y))"
      ],
      "metadata": {
        "colab": {
          "base_uri": "https://localhost:8080/"
        },
        "id": "ySCQb2y1_-2V",
        "outputId": "8ff897b9-0e08-49cf-8583-1df4723866bf"
      },
      "execution_count": null,
      "outputs": [
        {
          "output_type": "stream",
          "name": "stdout",
          "text": [
            "Enter the courses fee:399\n",
            "Enter the number of coursesthat you want to take:5\n",
            "the total funds required to take 5 courses at 399 cedis per a course is 1995\n"
          ]
        }
      ]
    },
    {
      "cell_type": "code",
      "source": [
        "a=input('Enter the fees for a course you want to study:')\n",
        "a=int(a)\n",
        "b=input('enter the number of courses that you want to pay for:')\n",
        "b=int(b)\n",
        "c=input('enter the name of the company that you want to study at:')\n",
        "c=int(c)\n",
        "print('the total funds required to pay for {} number of {} at {} is {}'.format(c,b,a,a*b))"
      ],
      "metadata": {
        "colab": {
          "base_uri": "https://localhost:8080/",
          "height": 269
        },
        "id": "2K5dvylSBiDw",
        "outputId": "4a524521-308f-45e1-b5f4-bf585e488422"
      },
      "execution_count": null,
      "outputs": [
        {
          "name": "stdout",
          "output_type": "stream",
          "text": [
            "Enter the fees for a course you want to study:3000\n",
            "enter the number of courses that you want to pay for:5\n",
            "enter the name of the company that you want to study at:UniDev\n"
          ]
        },
        {
          "output_type": "error",
          "ename": "ValueError",
          "evalue": "ignored",
          "traceback": [
            "\u001b[0;31m---------------------------------------------------------------------------\u001b[0m",
            "\u001b[0;31mValueError\u001b[0m                                Traceback (most recent call last)",
            "\u001b[0;32m<ipython-input-12-d3337ee01d1f>\u001b[0m in \u001b[0;36m<module>\u001b[0;34m()\u001b[0m\n\u001b[1;32m      4\u001b[0m \u001b[0mb\u001b[0m\u001b[0;34m=\u001b[0m\u001b[0mint\u001b[0m\u001b[0;34m(\u001b[0m\u001b[0mb\u001b[0m\u001b[0;34m)\u001b[0m\u001b[0;34m\u001b[0m\u001b[0;34m\u001b[0m\u001b[0m\n\u001b[1;32m      5\u001b[0m \u001b[0mc\u001b[0m\u001b[0;34m=\u001b[0m\u001b[0minput\u001b[0m\u001b[0;34m(\u001b[0m\u001b[0;34m'enter the name of the company that you want to study at:'\u001b[0m\u001b[0;34m)\u001b[0m\u001b[0;34m\u001b[0m\u001b[0;34m\u001b[0m\u001b[0m\n\u001b[0;32m----> 6\u001b[0;31m \u001b[0mc\u001b[0m\u001b[0;34m=\u001b[0m\u001b[0mint\u001b[0m\u001b[0;34m(\u001b[0m\u001b[0mc\u001b[0m\u001b[0;34m)\u001b[0m\u001b[0;34m\u001b[0m\u001b[0;34m\u001b[0m\u001b[0m\n\u001b[0m\u001b[1;32m      7\u001b[0m \u001b[0mprint\u001b[0m\u001b[0;34m(\u001b[0m\u001b[0;34m'the total funds required to pay for {} number of {} at {} is {}'\u001b[0m\u001b[0;34m.\u001b[0m\u001b[0mformat\u001b[0m\u001b[0;34m(\u001b[0m\u001b[0mc\u001b[0m\u001b[0;34m,\u001b[0m\u001b[0mb\u001b[0m\u001b[0;34m,\u001b[0m\u001b[0ma\u001b[0m\u001b[0;34m,\u001b[0m\u001b[0ma\u001b[0m\u001b[0;34m*\u001b[0m\u001b[0mb\u001b[0m\u001b[0;34m)\u001b[0m\u001b[0;34m)\u001b[0m\u001b[0;34m\u001b[0m\u001b[0;34m\u001b[0m\u001b[0m\n",
            "\u001b[0;31mValueError\u001b[0m: invalid literal for int() with base 10: 'UniDev'"
          ]
        }
      ]
    }
  ]
}