{
  "nbformat": 4,
  "nbformat_minor": 0,
  "metadata": {
    "colab": {
      "name": "Mini challenge.ipynb",
      "provenance": [],
      "authorship_tag": "ABX9TyNqRZq+l+Vwe+nJnAk/AxE3",
      "include_colab_link": true
    },
    "kernelspec": {
      "name": "python3",
      "display_name": "Python 3"
    },
    "language_info": {
      "name": "python"
    }
  },
  "cells": [
    {
      "cell_type": "markdown",
      "metadata": {
        "id": "view-in-github",
        "colab_type": "text"
      },
      "source": [
        "<a href=\"https://colab.research.google.com/github/dansoakua49/jul22-vac-python/blob/main/Mini_challenge.ipynb\" target=\"_parent\"><img src=\"https://colab.research.google.com/assets/colab-badge.svg\" alt=\"Open In Colab\"/></a>"
      ]
    },
    {
      "cell_type": "code",
      "execution_count": 5,
      "metadata": {
        "colab": {
          "base_uri": "https://localhost:8080/"
        },
        "id": "56CJC5Bh7b0r",
        "outputId": "77541d49-e266-4789-860b-cf34f47db353"
      },
      "outputs": [
        {
          "output_type": "stream",
          "name": "stdout",
          "text": [
            "Enter you age:16\n",
            "Access denied\n"
          ]
        }
      ],
      "source": [
        "age = input('Enter you age:')\n",
        "if age == '>18':\n",
        "     print('Access denied')\n",
        "else:\n",
        "       print('Access denied')"
      ]
    },
    {
      "cell_type": "code",
      "source": [
        "number = input('Enter any number:')\n",
        "if number == 'multiples of 2':\n",
        "  print('Even number')\n",
        "else:\n",
        "  print('Odd number')\n"
      ],
      "metadata": {
        "colab": {
          "base_uri": "https://localhost:8080/"
        },
        "id": "prS1JKwI9Sr-",
        "outputId": "325f7f87-762f-4e45-a569-57bdfdcc34af"
      },
      "execution_count": 6,
      "outputs": [
        {
          "output_type": "stream",
          "name": "stdout",
          "text": [
            "Enter any number:7\n",
            "Odd number\n"
          ]
        }
      ]
    }
  ]
}