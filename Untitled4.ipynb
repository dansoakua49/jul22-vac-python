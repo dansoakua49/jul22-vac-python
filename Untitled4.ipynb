{
  "nbformat": 4,
  "nbformat_minor": 0,
  "metadata": {
    "colab": {
      "name": "Untitled4.ipynb",
      "provenance": [],
      "authorship_tag": "ABX9TyNYWrEd0Bpi5srd7jprWgyH",
      "include_colab_link": true
    },
    "kernelspec": {
      "name": "python3",
      "display_name": "Python 3"
    },
    "language_info": {
      "name": "python"
    }
  },
  "cells": [
    {
      "cell_type": "markdown",
      "metadata": {
        "id": "view-in-github",
        "colab_type": "text"
      },
      "source": [
        "<a href=\"https://colab.research.google.com/github/dansoakua49/jul22-vac-python/blob/main/Untitled4.ipynb\" target=\"_parent\"><img src=\"https://colab.research.google.com/assets/colab-badge.svg\" alt=\"Open In Colab\"/></a>"
      ]
    },
    {
      "cell_type": "code",
      "execution_count": null,
      "metadata": {
        "colab": {
          "base_uri": "https://localhost:8080/"
        },
        "id": "lWpQdERK_CtJ",
        "outputId": "f5b4b4d6-5026-41b5-d243-3ddc3d703f1b"
      },
      "outputs": [
        {
          "output_type": "stream",
          "name": "stdout",
          "text": [
            "this statement is a true statement\n"
          ]
        }
      ],
      "source": [
        "if 100==100:\n",
        "  print('this statement is a true statement')\n",
        "else:\n",
        "  print('this is a false statement')"
      ]
    },
    {
      "cell_type": "code",
      "source": [
        "if 1 != 100:\n",
        "  print('this is a true statement')\n",
        "else:\n",
        "  print('thus a false statement')"
      ],
      "metadata": {
        "colab": {
          "base_uri": "https://localhost:8080/"
        },
        "id": "Vm_HsqqSiXiT",
        "outputId": "5e61b969-e3a4-4580-cdbb-246478a64104"
      },
      "execution_count": null,
      "outputs": [
        {
          "output_type": "stream",
          "name": "stdout",
          "text": [
            "this is a true statement\n"
          ]
        }
      ]
    },
    {
      "cell_type": "code",
      "source": [
        "if 8==8:\n",
        "  print('this statement is true')\n",
        "elif 9==9:\n",
        "  print('this statement will execute')\n",
        "else:\n",
        "  print('none of the are true')"
      ],
      "metadata": {
        "colab": {
          "base_uri": "https://localhost:8080/"
        },
        "id": "LCP1lGW-mkZ6",
        "outputId": "547f9b89-571c-42e7-da57-6b2a9c645b2a"
      },
      "execution_count": null,
      "outputs": [
        {
          "output_type": "stream",
          "name": "stdout",
          "text": [
            "this statement is true\n"
          ]
        }
      ]
    },
    {
      "cell_type": "code",
      "source": [
        "if 10!=3:\n",
        "  print('this statement will execute')\n",
        "elif 1==1:\n",
        "  print('this statement is true')\n",
        "else:\n",
        "  print('none of them are true')"
      ],
      "metadata": {
        "colab": {
          "base_uri": "https://localhost:8080/"
        },
        "id": "O3oRFFVGnSOc",
        "outputId": "e0fbb8c8-b57c-466d-b2b9-6e57bb13194c"
      },
      "execution_count": null,
      "outputs": [
        {
          "output_type": "stream",
          "name": "stdout",
          "text": [
            "this statement will execute\n"
          ]
        }
      ]
    },
    {
      "cell_type": "code",
      "source": [
        "name = input('Enter your name')\n",
        "if name.upper()=='Dave':\n",
        "  print('Access granted')\n",
        "else:\n",
        "  print('Access denied')"
      ],
      "metadata": {
        "colab": {
          "base_uri": "https://localhost:8080/"
        },
        "id": "54ey2MGioVwF",
        "outputId": "d83c7a79-482e-474e-bbc7-077a6330aac3"
      },
      "execution_count": null,
      "outputs": [
        {
          "output_type": "stream",
          "name": "stdout",
          "text": [
            "Enter your namedave\n",
            "Access denied\n"
          ]
        }
      ]
    }
  ]
}