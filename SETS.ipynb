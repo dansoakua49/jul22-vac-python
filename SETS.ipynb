{
  "nbformat": 4,
  "nbformat_minor": 0,
  "metadata": {
    "colab": {
      "name": "SETS.ipynb",
      "provenance": [],
      "authorship_tag": "ABX9TyP276xrnaJlz7uCJuVeYEhI",
      "include_colab_link": true
    },
    "kernelspec": {
      "name": "python3",
      "display_name": "Python 3"
    },
    "language_info": {
      "name": "python"
    }
  },
  "cells": [
    {
      "cell_type": "markdown",
      "metadata": {
        "id": "view-in-github",
        "colab_type": "text"
      },
      "source": [
        "<a href=\"https://colab.research.google.com/github/dansoakua49/jul22-vac-python/blob/main/SETS.ipynb\" target=\"_parent\"><img src=\"https://colab.research.google.com/assets/colab-badge.svg\" alt=\"Open In Colab\"/></a>"
      ]
    },
    {
      "cell_type": "code",
      "execution_count": 1,
      "metadata": {
        "colab": {
          "base_uri": "https://localhost:8080/"
        },
        "id": "zX18e9mvfLeW",
        "outputId": "cbd5932b-820e-4cd8-cfa1-eaad05c86766"
      },
      "outputs": [
        {
          "output_type": "stream",
          "name": "stdout",
          "text": [
            "{'name', 'age', 'T'}\n"
          ]
        }
      ],
      "source": [
        "myset={'name','age','T'}\n",
        "print(myset)"
      ]
    },
    {
      "cell_type": "code",
      "source": [
        "myset={'name','age','T','sex','T','age'}\n",
        "print(myset)"
      ],
      "metadata": {
        "colab": {
          "base_uri": "https://localhost:8080/"
        },
        "id": "aNU8NoyrmhRU",
        "outputId": "8898037d-153b-4e52-d74a-a7966e34ca54"
      },
      "execution_count": 2,
      "outputs": [
        {
          "output_type": "stream",
          "name": "stdout",
          "text": [
            "{'name', 'age', 'sex', 'T'}\n"
          ]
        }
      ]
    },
    {
      "cell_type": "code",
      "source": [
        "mylist={'name','age','T','sex','T','age','5','6','5'}\n",
        "print(mylist)"
      ],
      "metadata": {
        "colab": {
          "base_uri": "https://localhost:8080/"
        },
        "id": "q2ofkUt8mzW8",
        "outputId": "f9b2c70f-516f-4118-867b-88f6e20b1d96"
      },
      "execution_count": 3,
      "outputs": [
        {
          "output_type": "stream",
          "name": "stdout",
          "text": [
            "{'name', 'age', '5', '6', 'sex', 'T'}\n"
          ]
        }
      ]
    }
  ]
}