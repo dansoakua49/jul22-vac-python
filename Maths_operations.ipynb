{
  "nbformat": 4,
  "nbformat_minor": 0,
  "metadata": {
    "colab": {
      "name": "Maths operations.ipynb",
      "provenance": [],
      "authorship_tag": "ABX9TyPBlBhfhwZAKGURRGyWvF+r",
      "include_colab_link": true
    },
    "kernelspec": {
      "name": "python3",
      "display_name": "Python 3"
    },
    "language_info": {
      "name": "python"
    }
  },
  "cells": [
    {
      "cell_type": "markdown",
      "metadata": {
        "id": "view-in-github",
        "colab_type": "text"
      },
      "source": [
        "<a href=\"https://colab.research.google.com/github/dansoakua49/jul22-vac-python/blob/main/Maths_operations.ipynb\" target=\"_parent\"><img src=\"https://colab.research.google.com/assets/colab-badge.svg\" alt=\"Open In Colab\"/></a>"
      ]
    },
    {
      "cell_type": "code",
      "source": [
        "unicornstudents = 5\n",
        "unicornstudents = unicornstudents + 1\n",
        "unicornstudents"
      ],
      "metadata": {
        "colab": {
          "base_uri": "https://localhost:8080/"
        },
        "id": "vathtHwlZrjb",
        "outputId": "995913c6-523f-4b7f-b036-218ea8e91311"
      },
      "execution_count": 3,
      "outputs": [
        {
          "output_type": "execute_result",
          "data": {
            "text/plain": [
              "6"
            ]
          },
          "metadata": {},
          "execution_count": 3
        }
      ]
    },
    {
      "cell_type": "code",
      "source": [
        "unicornstudents=5\n",
        "unicornstudents +=1\n",
        "unicornstudents"
      ],
      "metadata": {
        "colab": {
          "base_uri": "https://localhost:8080/"
        },
        "id": "Hg8NI8mEaCUa",
        "outputId": "563647c6-1750-412c-bfce-cc868bc27bdc"
      },
      "execution_count": 4,
      "outputs": [
        {
          "output_type": "execute_result",
          "data": {
            "text/plain": [
              "6"
            ]
          },
          "metadata": {},
          "execution_count": 4
        }
      ]
    },
    {
      "cell_type": "code",
      "source": [
        "studentcount=5\n",
        "studentprice=260\n",
        "accountbalance=studentcount*studentprice\n",
        "accountbalance"
      ],
      "metadata": {
        "colab": {
          "base_uri": "https://localhost:8080/"
        },
        "id": "_GzKOz5haPua",
        "outputId": "ff0019fb-3d34-48a2-ecb2-d5bf164397f7"
      },
      "execution_count": 9,
      "outputs": [
        {
          "output_type": "execute_result",
          "data": {
            "text/plain": [
              "1300"
            ]
          },
          "metadata": {},
          "execution_count": 9
        }
      ]
    },
    {
      "cell_type": "code",
      "source": [
        "accountbalance=20000\n",
        "accountbalance"
      ],
      "metadata": {
        "colab": {
          "base_uri": "https://localhost:8080/"
        },
        "id": "OyDFleKUbzSM",
        "outputId": "ff037fc9-7e27-4820-db4b-3b402649098d"
      },
      "execution_count": 10,
      "outputs": [
        {
          "output_type": "execute_result",
          "data": {
            "text/plain": [
              "20000"
            ]
          },
          "metadata": {},
          "execution_count": 10
        }
      ]
    },
    {
      "cell_type": "code",
      "source": [
        "tutorfee=3116\n",
        "units=accountbalance/tutorfee\n",
        "units"
      ],
      "metadata": {
        "colab": {
          "base_uri": "https://localhost:8080/"
        },
        "id": "FmAhld1jcA5O",
        "outputId": "22c09308-754e-4926-8acb-dfae28ffc9a8"
      },
      "execution_count": 11,
      "outputs": [
        {
          "output_type": "execute_result",
          "data": {
            "text/plain": [
              "6.418485237483954"
            ]
          },
          "metadata": {},
          "execution_count": 11
        }
      ]
    },
    {
      "cell_type": "code",
      "source": [
        "tutors=23\n",
        "tutorsfee=2500\n",
        "money=tutors*tutorsfee\n",
        "money"
      ],
      "metadata": {
        "colab": {
          "base_uri": "https://localhost:8080/"
        },
        "id": "5Mrb_QDAcTZa",
        "outputId": "7c39e8e2-bba8-4cc7-862c-4f60a189dca7"
      },
      "execution_count": 12,
      "outputs": [
        {
          "output_type": "execute_result",
          "data": {
            "text/plain": [
              "57500"
            ]
          },
          "metadata": {},
          "execution_count": 12
        }
      ]
    },
    {
      "cell_type": "code",
      "source": [
        "feespaidonday1=260\n",
        "feespaidonday2=280\n",
        "amountpaidaday=feespaidonday1/feespaidonday2\n",
        "amountpaidaday"
      ],
      "metadata": {
        "colab": {
          "base_uri": "https://localhost:8080/"
        },
        "id": "HROF_GX9dEb7",
        "outputId": "2543a797-ddd0-48d3-b7ad-5a8720e9a0cb"
      },
      "execution_count": 14,
      "outputs": [
        {
          "output_type": "execute_result",
          "data": {
            "text/plain": [
              "0.9285714285714286"
            ]
          },
          "metadata": {},
          "execution_count": 14
        }
      ]
    }
  ]
}