{
  "cells": [
    {
      "cell_type": "markdown",
      "metadata": {
        "id": "view-in-github",
        "colab_type": "text"
      },
      "source": [
        "<a href=\"https://colab.research.google.com/github/dansoakua49/jul22-vac-python/blob/main/print_operatons.ipynb\" target=\"_parent\"><img src=\"https://colab.research.google.com/assets/colab-badge.svg\" alt=\"Open In Colab\"/></a>"
      ]
    },
    {
      "cell_type": "code",
      "execution_count": null,
      "metadata": {
        "id": "D_VPkLpNpsrY"
      },
      "outputs": [],
      "source": [
        "x='welcome to python towards data science track'"
      ]
    },
    {
      "cell_type": "code",
      "execution_count": null,
      "metadata": {
        "colab": {
          "base_uri": "https://localhost:8080/"
        },
        "id": "9xdiT0dCqMA0",
        "outputId": "90c71acc-606a-4231-a512-af489dc2ec71"
      },
      "outputs": [
        {
          "data": {
            "text/plain": [
              "str"
            ]
          },
          "execution_count": 6,
          "metadata": {},
          "output_type": "execute_result"
        }
      ],
      "source": [
        "type(x)"
      ]
    },
    {
      "cell_type": "code",
      "execution_count": null,
      "metadata": {
        "colab": {
          "base_uri": "https://localhost:8080/"
        },
        "id": "Lgf2w7Wkqmcw",
        "outputId": "b65b7a0d-b4df-4998-bac7-6a2c42de5dfc"
      },
      "outputs": [
        {
          "name": "stdout",
          "output_type": "stream",
          "text": [
            "welcome to python towards data science track\n"
          ]
        }
      ],
      "source": [
        "print(x)"
      ]
    },
    {
      "cell_type": "code",
      "execution_count": null,
      "metadata": {
        "id": "mGqjakYJquZS"
      },
      "outputs": [],
      "source": [
        "companyname = 'unicorn developers'"
      ]
    },
    {
      "cell_type": "code",
      "execution_count": null,
      "metadata": {
        "colab": {
          "base_uri": "https://localhost:8080/"
        },
        "id": "vpO7esqZrvIK",
        "outputId": "882b9f43-589a-4e3b-cabd-7657d317db4b"
      },
      "outputs": [
        {
          "name": "stdout",
          "output_type": "stream",
          "text": [
            "student name at unicorn developers is barbara\n"
          ]
        }
      ],
      "source": [
        "print('student name at {} is barbara'. format(companyname))"
      ]
    },
    {
      "cell_type": "code",
      "execution_count": null,
      "metadata": {
        "id": "rYkm-yn4sWo2"
      },
      "outputs": [],
      "source": [
        "totalstudent=30"
      ]
    },
    {
      "cell_type": "code",
      "execution_count": null,
      "metadata": {
        "colab": {
          "base_uri": "https://localhost:8080/"
        },
        "id": "2xSTNS96trOw",
        "outputId": "cab52735-a59f-402c-abc6-71de21c1945d"
      },
      "outputs": [
        {
          "name": "stdout",
          "output_type": "stream",
          "text": [
            "the total number of student at unicorn developers are 30\n"
          ]
        }
      ],
      "source": [
        "print('the total number of student at {} are {}'. format(companyname,totalstudent))"
      ]
    },
    {
      "cell_type": "code",
      "execution_count": null,
      "metadata": {
        "id": "K5dhl_LSuWSr"
      },
      "outputs": [],
      "source": [
        "companyname= 'unicorn developers'"
      ]
    },
    {
      "cell_type": "code",
      "execution_count": null,
      "metadata": {
        "colab": {
          "base_uri": "https://localhost:8080/"
        },
        "id": "HXsU1b9Gu7NR",
        "outputId": "438c2a2e-a62e-4866-a48f-acf87a3971e8"
      },
      "outputs": [
        {
          "name": "stdout",
          "output_type": "stream",
          "text": [
            "student name at unicorn developers is Yaaba\n"
          ]
        }
      ],
      "source": [
        "print('student name at {} is Yaaba'. format(companyname))"
      ]
    },
    {
      "cell_type": "code",
      "execution_count": null,
      "metadata": {
        "id": "60kiRKL0vUdG"
      },
      "outputs": [],
      "source": [
        "totalstudent=30"
      ]
    },
    {
      "cell_type": "code",
      "execution_count": null,
      "metadata": {
        "colab": {
          "background_save": true,
          "base_uri": "https://localhost:8080/"
        },
        "id": "Afo5gMbFvien",
        "outputId": "560d7d66-86bd-4fb2-bdb0-3a109db2a55b"
      },
      "outputs": [
        {
          "name": "stdout",
          "output_type": "stream",
          "text": [
            "the total number of student at unicorn developers are 30\n"
          ]
        }
      ],
      "source": [
        "print('the total number of student at {} are {}'. format(companyname,totalstudent))"
      ]
    }
  ],
  "metadata": {
    "colab": {
      "name": "print operatons.ipynb",
      "provenance": [],
      "authorship_tag": "ABX9TyOXfSuHr0tHapUrlYU/nSXT",
      "include_colab_link": true
    },
    "kernelspec": {
      "display_name": "Python 3",
      "name": "python3"
    },
    "language_info": {
      "name": "python"
    }
  },
  "nbformat": 4,
  "nbformat_minor": 0
}